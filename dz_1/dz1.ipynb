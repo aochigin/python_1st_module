{
 "cells": [
  {
   "cell_type": "code",
   "execution_count": 18,
   "id": "39d990f0-f528-4145-84ed-15910b50f24e",
   "metadata": {},
   "outputs": [],
   "source": [
    "year = 2028"
   ]
  },
  {
   "cell_type": "code",
   "execution_count": 10,
   "id": "3557392a-5322-42c2-b115-30745afe9c2f",
   "metadata": {},
   "outputs": [],
   "source": [
    "def is_leap_year(value):\n",
    "    if value == 0:\n",
    "        return False\n",
    "    is_div_by_four = (value % 4) == 0\n",
    "    is_div_by_hundreds = (value % 100) == 0\n",
    "    is_div_by_four_hundreds = (value % 400) == 0\n",
    "\n",
    "    if is_div_by_hundreds:\n",
    "        if is_div_by_four_hundreds:\n",
    "            return True\n",
    "    elif is_div_by_four:\n",
    "        return True\n",
    "    return False"
   ]
  },
  {
   "cell_type": "code",
   "execution_count": 16,
   "id": "8c3bdef6-6aaa-4f9f-913d-70d61952e296",
   "metadata": {},
   "outputs": [],
   "source": [
    "def is_leap_year_pretty_print(value):\n",
    "    if is_leap_year(value):\n",
    "        return \"Високосный год\"\n",
    "    else:\n",
    "        return \"Обычный год\""
   ]
  },
  {
   "cell_type": "code",
   "execution_count": 12,
   "id": "b7902804-5709-4062-b03c-a63e341df464",
   "metadata": {},
   "outputs": [],
   "source": [
    "values = [0, 1, 500, 800, 804, 808, 1000, 1800, 1900, 2000, 2024, 2100]\n",
    "ans = [False, False, False, True, True, True, False, False, False, True, True, False]\n",
    "\n",
    "for y, a in zip(values, ans):\n",
    "    is_leap = is_leap_year(y)\n",
    "    assert(is_leap == a)"
   ]
  },
  {
   "cell_type": "code",
   "execution_count": 22,
   "id": "93af21e2-7dcd-4e1e-83c5-582ed397e650",
   "metadata": {
    "scrolled": true
   },
   "outputs": [
    {
     "name": "stdout",
     "output_type": "stream",
     "text": [
      "Високосный год\n"
     ]
    }
   ],
   "source": [
    "print(is_leap_year_pretty_print(year))"
   ]
  },
  {
   "cell_type": "code",
   "execution_count": 24,
   "id": "dd45456f-06fd-4a9c-949b-d9d97c334d30",
   "metadata": {},
   "outputs": [
    {
     "name": "stdout",
     "output_type": "stream",
     "text": [
      "Високосный год\n"
     ]
    }
   ],
   "source": [
    "print(is_leap_year_pretty_print(2024))"
   ]
  },
  {
   "cell_type": "code",
   "execution_count": 25,
   "id": "9364e061-78fa-4125-98f8-668175a6b7e2",
   "metadata": {},
   "outputs": [
    {
     "name": "stdout",
     "output_type": "stream",
     "text": [
      "Обычный год\n"
     ]
    }
   ],
   "source": [
    "print(is_leap_year_pretty_print(2013))"
   ]
  },
  {
   "cell_type": "markdown",
   "id": "df56094b-99cf-451b-9cb2-0a771914b191",
   "metadata": {},
   "source": [
    "### задание 2"
   ]
  },
  {
   "cell_type": "markdown",
   "id": "acf974a2-4398-4e03-8fdd-407bd37b7f46",
   "metadata": {},
   "source": [
    "### вообще шестизначные билеты имели ведущий ноль, но в задании указано, что переменная инт и там ведущий 0 не сохранить, ну либо брать пятизначные числа и считать первую (в моем случае последнюю) цифру нулем"
   ]
  },
  {
   "cell_type": "code",
   "execution_count": 30,
   "id": "dac2a048-39a6-422d-a07d-a8f337bc0672",
   "metadata": {},
   "outputs": [],
   "source": [
    "def is_lucky_ticket(value):\n",
    "    if value > 999999 or value < 100000:\n",
    "        return False\n",
    "    digits = []\n",
    "    v = value\n",
    "    while v > 0:\n",
    "        digits.append(v % 10)\n",
    "        v //= 10\n",
    "    assert(len(digits) == 6)\n",
    "    left = sum(digits[0:3])\n",
    "    right = sum(digits[3:])\n",
    "    if left == right:\n",
    "        return \"Счастливый билет\"\n",
    "    else:\n",
    "        return \"Несчастливый билет\"\n",
    "    return left == right"
   ]
  },
  {
   "cell_type": "code",
   "execution_count": 31,
   "id": "07f6371f-3aa5-49b4-92bd-a79b52e01fe2",
   "metadata": {},
   "outputs": [
    {
     "name": "stdout",
     "output_type": "stream",
     "text": [
      "Несчастливый билет\n"
     ]
    }
   ],
   "source": [
    "print(is_lucky_ticket(123456))"
   ]
  },
  {
   "cell_type": "code",
   "execution_count": 33,
   "id": "79cc2ad5-3393-4670-a05c-a7b510bd68d8",
   "metadata": {},
   "outputs": [
    {
     "name": "stdout",
     "output_type": "stream",
     "text": [
      "Счастливый билет\n"
     ]
    }
   ],
   "source": [
    "print(is_lucky_ticket(123321))"
   ]
  },
  {
   "cell_type": "code",
   "execution_count": 34,
   "id": "b92115cd-c948-446a-8a43-27b0401b8c3b",
   "metadata": {},
   "outputs": [
    {
     "name": "stdout",
     "output_type": "stream",
     "text": [
      "Счастливый билет\n"
     ]
    }
   ],
   "source": [
    "print(is_lucky_ticket(139175))"
   ]
  },
  {
   "cell_type": "code",
   "execution_count": null,
   "id": "2157c967-fc87-4403-a56a-180696715454",
   "metadata": {},
   "outputs": [],
   "source": []
  }
 ],
 "metadata": {
  "kernelspec": {
   "display_name": "Python 3 (ipykernel)",
   "language": "python",
   "name": "python3"
  },
  "language_info": {
   "codemirror_mode": {
    "name": "ipython",
    "version": 3
   },
   "file_extension": ".py",
   "mimetype": "text/x-python",
   "name": "python",
   "nbconvert_exporter": "python",
   "pygments_lexer": "ipython3",
   "version": "3.12.5"
  }
 },
 "nbformat": 4,
 "nbformat_minor": 5
}
