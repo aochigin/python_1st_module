{
 "cells": [
  {
   "cell_type": "code",
   "execution_count": null,
   "id": "02cc4550-2fbf-40fe-ac49-6b08a96b9887",
   "metadata": {},
   "outputs": [],
   "source": []
  },
  {
   "cell_type": "markdown",
   "id": "96b508be-7f86-4673-9d83-aafcd2c6ce44",
   "metadata": {},
   "source": [
    "### Исходные данные"
   ]
  },
  {
   "cell_type": "code",
   "execution_count": 1,
   "id": "3b534e08-b864-4ba9-bb75-01f977d5411c",
   "metadata": {},
   "outputs": [],
   "source": [
    "documents = [\n",
    " {'type': 'passport', 'number': '2207 876234', 'name': 'Василий Гупкин'},\n",
    " {'type': 'invoice', 'number': '11-2', 'name': 'Геннадий Покемонов'},\n",
    " {'type': 'insurance', 'number': '10006', 'name': 'Аристарх Павлов'}\n",
    "]\n",
    "\n",
    "directories = {\n",
    " '1': ['2207 876234', '11-2'],\n",
    " '2': ['10006'],\n",
    " '3': []\n",
    "}"
   ]
  },
  {
   "cell_type": "markdown",
   "id": "58391866-f3c7-4295-8296-191cd42464ab",
   "metadata": {},
   "source": [
    "### Общие функции"
   ]
  },
  {
   "cell_type": "markdown",
   "id": "34ec7d70-df5f-4afe-a5fc-c20cce462164",
   "metadata": {},
   "source": [
    "#### поиск документа по имени поля"
   ]
  },
  {
   "cell_type": "code",
   "execution_count": 5,
   "id": "85e9becf-830c-4a95-8005-8ffe31538324",
   "metadata": {},
   "outputs": [],
   "source": [
    "def get_documents(doc_key, doc_value):\n",
    "    result = []\n",
    "    for document in documents:\n",
    "        if doc_key in document and document[doc_key] == doc_value:\n",
    "            result.append(document)\n",
    "    return result"
   ]
  },
  {
   "cell_type": "markdown",
   "id": "9802df9b-134c-4870-a1b6-fd2ca3a7fb5e",
   "metadata": {},
   "source": [
    "#### поиск документа в директории"
   ]
  },
  {
   "cell_type": "code",
   "execution_count": 6,
   "id": "da5a37bc-48ac-4406-94c3-6d5891536e04",
   "metadata": {},
   "outputs": [],
   "source": [
    "def get_directory(doc_id):\n",
    "    for k, v in directories.items():\n",
    "        for _doc_id in v:\n",
    "            if _doc_id == doc_id:\n",
    "                return k\n",
    "    return None"
   ]
  },
  {
   "cell_type": "markdown",
   "id": "94d84b59-7b4a-4249-b170-8d8a3525ccd2",
   "metadata": {},
   "source": [
    "#### быстрые команды"
   ]
  },
  {
   "cell_type": "code",
   "execution_count": 18,
   "id": "f0b59a44-998d-46f8-8532-e3395143d4c1",
   "metadata": {},
   "outputs": [],
   "source": [
    "def p_command_func(doc_id):\n",
    "    docs = get_documents(\"number\", doc_id)\n",
    "    return [doc[\"name\"] for doc in docs]\n",
    "\n",
    "def s_command_func(doc_id):\n",
    "    return get_directory(doc_id)"
   ]
  },
  {
   "cell_type": "markdown",
   "id": "d06b1285-0a16-46e5-87fa-8fb131c9998d",
   "metadata": {},
   "source": [
    "#### обработка ответа"
   ]
  },
  {
   "cell_type": "code",
   "execution_count": 54,
   "id": "bd96e527-4cc0-4123-8a5b-cf7415bf0b24",
   "metadata": {},
   "outputs": [],
   "source": [
    "def format_result_string_error(output_string = None, error_message = None):\n",
    "    if output_string is not None and error_message is not None:\n",
    "        print(f\"{output_string}: {error_message}\")\n",
    "    else:\n",
    "        print(\"Произошла ошибка при выполнении команды. Проверьте корректность входных данных.\")\n",
    "    \n",
    "\n",
    "def format_result_string_single(output_string, result, error_message):\n",
    "    if result is not None and (isinstance(result, str) or isinstance (result, int)):\n",
    "        print(f\"{output_string}: {result}\")\n",
    "    else:\n",
    "        format_result_string_error(output_string, error_message)\n",
    "\n",
    "def format_result_string_list(output_string, result, error_message):\n",
    "    if result is not None and isinstance(result, list) and len(result) > 0:\n",
    "        if len(result) == 1:\n",
    "            format_result_string_single(output_string, result[0], error_message)\n",
    "        else:\n",
    "            list_result = \", \".join(result)\n",
    "            print(f\"{output_string}: {result}\")\n",
    "    else:\n",
    "        format_result_string_error(output_string, error_message)\n",
    "        \n",
    "def print_result(output_string, result, error_message):\n",
    "    print(\"\\nРезультат:\")\n",
    "    if result is not None:\n",
    "        if isinstance(result, list):\n",
    "            format_result_string_list(output_string, result, error_message)\n",
    "            return\n",
    "        elif isinstance(result, str) or isinstance(result, int):\n",
    "            format_result_string_single(output_string, result, error_message)\n",
    "            return\n",
    "    format_result_string_error(output_string, error_message)"
   ]
  },
  {
   "cell_type": "markdown",
   "id": "4f919e09-d6be-4c89-9d0e-7f6a2352851e",
   "metadata": {},
   "source": [
    "#### техническая функция считывания входа"
   ]
  },
  {
   "cell_type": "code",
   "execution_count": 42,
   "id": "44de4be1-4f2d-4d07-a361-516d0d41c260",
   "metadata": {},
   "outputs": [],
   "source": [
    "def read_input_impl(welcome_string):\n",
    "    result = input(f\"{welcome_string}:\\n\")\n",
    "    return result"
   ]
  },
  {
   "cell_type": "markdown",
   "id": "b52c43bb-9174-4b5d-8e3b-70828bc1bda3",
   "metadata": {},
   "source": [
    "### Задание 1 команда P\n",
    "\n",
    "Команда \"p\" - возвращает владельца документа по его ID"
   ]
  },
  {
   "cell_type": "code",
   "execution_count": 44,
   "id": "01e0733d-3aca-457e-8cba-2e5e2daec367",
   "metadata": {},
   "outputs": [],
   "source": [
    "def p_command():\n",
    "    doc_id = read_input_impl(\"Введите номер документа\")\n",
    "    result = p_command_func(doc_id)\n",
    "    print_result(\"Владелец документа\", result, \"владелец не найден\")    "
   ]
  },
  {
   "cell_type": "markdown",
   "id": "4a75fa16-851a-4d07-a779-2a9532292151",
   "metadata": {},
   "source": [
    "#### тесты"
   ]
  },
  {
   "cell_type": "code",
   "execution_count": 48,
   "id": "d5c24c99-706c-47ef-bf9c-9d8a58d1b4d3",
   "metadata": {},
   "outputs": [
    {
     "name": "stdout",
     "output_type": "stream",
     "text": [
      "Тесты пройдены успешно\n"
     ]
    }
   ],
   "source": [
    "docs = [\"2207 876234\", \"10006\", \"11-2\", \"100\", \"11-3\"]\n",
    "answers = [[\"Василий Гупкин\"], [\"Аристарх Павлов\"], [\"Геннадий Покемонов\"], [], []]\n",
    "for i, doc in enumerate(docs):\n",
    "    res = p_command_func(doc)\n",
    "    assert res == answers[i], f\"Ожидаемый результат: {answers[i]}\\nПолученный результат\"\n",
    "print(\"Тесты пройдены успешно\")"
   ]
  },
  {
   "cell_type": "code",
   "execution_count": 55,
   "id": "4f0dbf35-d09f-40e3-88f2-de8c77f914d3",
   "metadata": {},
   "outputs": [
    {
     "name": "stdin",
     "output_type": "stream",
     "text": [
      "Введите номер документа:\n",
      " 2207 876234\n"
     ]
    },
    {
     "name": "stdout",
     "output_type": "stream",
     "text": [
      "\n",
      "Результат:\n",
      "Владелец документа: Василий Гупкин\n"
     ]
    }
   ],
   "source": [
    "p_command()"
   ]
  },
  {
   "cell_type": "code",
   "execution_count": 56,
   "id": "93cd6fd8-abc4-46d9-8ab7-a70a3c6c8038",
   "metadata": {},
   "outputs": [
    {
     "name": "stdin",
     "output_type": "stream",
     "text": [
      "Введите номер документа:\n",
      " Несуществующий_документ\n"
     ]
    },
    {
     "name": "stdout",
     "output_type": "stream",
     "text": [
      "\n",
      "Результат:\n",
      "Владелец документа: владелец не найден\n"
     ]
    }
   ],
   "source": [
    "p_command()"
   ]
  },
  {
   "cell_type": "markdown",
   "id": "b7103439-6787-4253-95b8-aa78ff9d9da7",
   "metadata": {},
   "source": [
    "### Задание 2 команда S\n",
    "Команда \"s\" - возвращает полку, на которой находится документ с указанным ID"
   ]
  },
  {
   "cell_type": "code",
   "execution_count": 57,
   "id": "507d6a1f-d266-4627-8aed-5571ccfc7989",
   "metadata": {},
   "outputs": [],
   "source": [
    "def s_command():\n",
    "    doc_id = read_input_impl(\"Введите номер документа\")\n",
    "    result = s_command_func(doc_id)\n",
    "    print_result(\"Документ хранится на полке\", result, \"полка не найдена\")"
   ]
  },
  {
   "cell_type": "markdown",
   "id": "e1c3f6ce-3727-41d9-aa6a-2fc89d13191c",
   "metadata": {},
   "source": [
    "#### тесты"
   ]
  },
  {
   "cell_type": "code",
   "execution_count": 58,
   "id": "56dd230e-2448-4ffc-a89f-e60fd14863fc",
   "metadata": {},
   "outputs": [
    {
     "name": "stdout",
     "output_type": "stream",
     "text": [
      "Тесты пройдены успешно\n"
     ]
    }
   ],
   "source": [
    "docs = [\"2207 876234\", \"10006\", \"11-2\", \"100\", \"11-3\"]\n",
    "answers = [\"1\", \"2\", \"1\", None, None]\n",
    "for i, doc in enumerate(docs):\n",
    "    res = s_command_func(doc)\n",
    "    assert res == answers[i], f\"Ожидаемый результат: {answers[i]}\\nПолученный результат: {res}\"\n",
    "print(\"Тесты пройдены успешно\")"
   ]
  },
  {
   "cell_type": "code",
   "execution_count": 59,
   "id": "4539ef50-9b45-41e4-b822-654b770bc630",
   "metadata": {},
   "outputs": [
    {
     "name": "stdin",
     "output_type": "stream",
     "text": [
      "Введите номер документа:\n",
      " 2207 876234\n"
     ]
    },
    {
     "name": "stdout",
     "output_type": "stream",
     "text": [
      "\n",
      "Результат:\n",
      "Документ хранится на полке: 1\n"
     ]
    }
   ],
   "source": [
    "s_command()"
   ]
  },
  {
   "cell_type": "code",
   "execution_count": 60,
   "id": "5b7c6ef9-625e-47cb-a745-b883c4ad9dc7",
   "metadata": {},
   "outputs": [
    {
     "name": "stdin",
     "output_type": "stream",
     "text": [
      "Введите номер документа:\n",
      " Несуществующий_документ\n"
     ]
    },
    {
     "name": "stdout",
     "output_type": "stream",
     "text": [
      "\n",
      "Результат:\n",
      "Документ хранится на полке: полка не найдена\n"
     ]
    }
   ],
   "source": [
    "s_command()"
   ]
  },
  {
   "cell_type": "markdown",
   "id": "81bee72c-2e18-4afa-bd06-a0263eed8993",
   "metadata": {},
   "source": [
    "### Обработка ввода"
   ]
  },
  {
   "cell_type": "code",
   "execution_count": 61,
   "id": "291e5bb6-a88f-422f-b27c-659c16381ff6",
   "metadata": {},
   "outputs": [],
   "source": [
    "def read_input():\n",
    "    command = read_input_impl(\"Введите команду\")\n",
    "    if command == \"q\":\n",
    "        return False\n",
    "    elif command == \"p\":\n",
    "        p_command()\n",
    "        return True\n",
    "    elif command == \"s\":\n",
    "        s_command()\n",
    "        return True\n",
    "    else:\n",
    "        format_result_string_error(\"Введена неверная команда\", command)\n",
    "        return True\n",
    "\n",
    "def input_loop():\n",
    "    repeat = True\n",
    "    while repeat:\n",
    "        repeat = read_input()\n",
    "        print(\"------------\")"
   ]
  },
  {
   "cell_type": "markdown",
   "id": "b1d521e1-ff18-4180-8b12-f6827a24ccf1",
   "metadata": {},
   "source": [
    "### Тест основного цикла"
   ]
  },
  {
   "cell_type": "code",
   "execution_count": 62,
   "id": "cb5ffd7b-30d4-4a2f-9acd-82d8b10461b8",
   "metadata": {
    "scrolled": true
   },
   "outputs": [
    {
     "name": "stdin",
     "output_type": "stream",
     "text": [
      "Введите команду:\n",
      " p\n",
      "Введите номер документа:\n",
      " 10006\n"
     ]
    },
    {
     "name": "stdout",
     "output_type": "stream",
     "text": [
      "\n",
      "Результат:\n",
      "Владелец документа: Аристарх Павлов\n",
      "------------\n"
     ]
    },
    {
     "name": "stdin",
     "output_type": "stream",
     "text": [
      "Введите команду:\n",
      " p\n",
      "Введите номер документа:\n",
      " 1001\n"
     ]
    },
    {
     "name": "stdout",
     "output_type": "stream",
     "text": [
      "\n",
      "Результат:\n",
      "Владелец документа: владелец не найден\n",
      "------------\n"
     ]
    },
    {
     "name": "stdin",
     "output_type": "stream",
     "text": [
      "Введите команду:\n",
      " s\n",
      "Введите номер документа:\n",
      " 1006\n"
     ]
    },
    {
     "name": "stdout",
     "output_type": "stream",
     "text": [
      "\n",
      "Результат:\n",
      "Документ хранится на полке: полка не найдена\n",
      "------------\n"
     ]
    },
    {
     "name": "stdin",
     "output_type": "stream",
     "text": [
      "Введите команду:\n",
      " s\n",
      "Введите номер документа:\n",
      " 10006\n"
     ]
    },
    {
     "name": "stdout",
     "output_type": "stream",
     "text": [
      "\n",
      "Результат:\n",
      "Документ хранится на полке: 2\n",
      "------------\n"
     ]
    },
    {
     "name": "stdin",
     "output_type": "stream",
     "text": [
      "Введите команду:\n",
      " t\n"
     ]
    },
    {
     "name": "stdout",
     "output_type": "stream",
     "text": [
      "Введена неверная команда: t\n",
      "------------\n"
     ]
    },
    {
     "name": "stdin",
     "output_type": "stream",
     "text": [
      "Введите команду:\n",
      " p\n",
      "Введите номер документа:\n",
      " 11-2\n"
     ]
    },
    {
     "name": "stdout",
     "output_type": "stream",
     "text": [
      "\n",
      "Результат:\n",
      "Владелец документа: Геннадий Покемонов\n",
      "------------\n"
     ]
    },
    {
     "name": "stdin",
     "output_type": "stream",
     "text": [
      "Введите команду:\n",
      " q\n"
     ]
    },
    {
     "name": "stdout",
     "output_type": "stream",
     "text": [
      "------------\n"
     ]
    }
   ],
   "source": [
    "input_loop()"
   ]
  },
  {
   "cell_type": "code",
   "execution_count": null,
   "id": "f7d51806-c8b7-4cfc-843c-0f6251ea431c",
   "metadata": {},
   "outputs": [],
   "source": []
  }
 ],
 "metadata": {
  "kernelspec": {
   "display_name": "Python 3 (ipykernel)",
   "language": "python",
   "name": "python3"
  },
  "language_info": {
   "codemirror_mode": {
    "name": "ipython",
    "version": 3
   },
   "file_extension": ".py",
   "mimetype": "text/x-python",
   "name": "python",
   "nbconvert_exporter": "python",
   "pygments_lexer": "ipython3",
   "version": "3.12.7"
  }
 },
 "nbformat": 4,
 "nbformat_minor": 5
}
