{
 "cells": [
  {
   "cell_type": "markdown",
   "id": "96b508be-7f86-4673-9d83-aafcd2c6ce44",
   "metadata": {},
   "source": [
    "### Свой тип исключения"
   ]
  },
  {
   "cell_type": "code",
   "execution_count": 27,
   "id": "3b534e08-b864-4ba9-bb75-01f977d5411c",
   "metadata": {},
   "outputs": [],
   "source": [
    "class InvalidDateException(Exception):\n",
    "    pass\n",
    "\n",
    "class IncorrectWeekdayException(Exception):\n",
    "    pass"
   ]
  },
  {
   "cell_type": "markdown",
   "id": "58391866-f3c7-4295-8296-191cd42464ab",
   "metadata": {},
   "source": [
    "### Функции конверта дат"
   ]
  },
  {
   "cell_type": "code",
   "execution_count": 7,
   "id": "85e9becf-830c-4a95-8005-8ffe31538324",
   "metadata": {},
   "outputs": [],
   "source": [
    "import datetime"
   ]
  },
  {
   "cell_type": "code",
   "execution_count": 43,
   "id": "da5a37bc-48ac-4406-94c3-6d5891536e04",
   "metadata": {},
   "outputs": [],
   "source": [
    "class DateParser():\n",
    "    def __init__(self):\n",
    "        #The Moscow Times — Wednesday, October 2, 2002\n",
    "        TMTFormat = \"%A, %B %d, %Y\"\n",
    "        #The Guardian — Friday, 11.10.13\n",
    "        TGFormat = \"%A, %d.%m.%y\"\n",
    "        #Daily News — Thursday, 18 August 1977\n",
    "        DNFormat = \"%A, %d %B %Y\"\n",
    "        self.__format_strings = [TMTFormat, TGFormat, DNFormat]\n",
    "        self.__weekday_map = {\n",
    "            \"Monday\": 0,\n",
    "            \"Tuesday\": 1,\n",
    "            \"Wednesday\": 2,\n",
    "            \"Thursday\": 3,\n",
    "            \"Friday\": 4,\n",
    "            \"Saturday\": 5,\n",
    "            \"Sunday\": 6\n",
    "        }\n",
    "        self.__reverse_weekday_map = {v: k for k, v in self.__weekday_map.items()}\n",
    "\n",
    "    def parse_date(self, input_string):\n",
    "        date = None\n",
    "        for format_string in self.__format_strings:\n",
    "            date = self._parse_date(input_string, format_string)\n",
    "            if date is None:\n",
    "                continue\n",
    "            validation = self._validate_weekday(input_string, date.weekday())\n",
    "            if not validation:\n",
    "                error_message = f\"День недели не соответствует дате. Дата: {input_string}, ожидаемый день недели: {self.__reverse_weekday_map[date.weekday()]}\"\n",
    "                raise IncorrectWeekdayException(error_message)\n",
    "            else:\n",
    "                return date\n",
    "        if date is None:\n",
    "            error_message = f\"Не удалось прочитать дату: {input_string}\"\n",
    "            raise InvalidDateException(error_message)\n",
    "        return date\n",
    "\n",
    "    def _parse_date(self, input_string, format_string):\n",
    "        try:\n",
    "            return datetime.datetime.strptime(input_string, format_string).date()\n",
    "        except ValueError:\n",
    "            return None\n",
    "        except Exception:\n",
    "            # something else happened\n",
    "            raise\n",
    "            \n",
    "\n",
    "    def _validate_weekday(self, input_string, parsed_weekday):\n",
    "        pos = input_string.find(\",\")\n",
    "        if pos == -1:\n",
    "            return False\n",
    "        weekday = input_string[:pos]\n",
    "        if weekday in self.__weekday_map and self.__weekday_map[weekday] == parsed_weekday:\n",
    "            return True\n",
    "        return False"
   ]
  },
  {
   "cell_type": "code",
   "execution_count": 44,
   "id": "49384878-abe1-41be-9d4b-1ccb732ecfdb",
   "metadata": {},
   "outputs": [],
   "source": [
    "# Тесты корректности\n",
    "correct_dates = [\"Wednesday, October 2, 2002\", \"Friday, 11.10.13\", \"Thursday, 18 August 1977\",\n",
    "                 \"Tuesday, October 1, 2002\", \"Saturday, 12.10.13\", \"Friday, 19 August 1977\"]\n",
    "answers = [datetime.date(2002, 10, 2), datetime.date(2013, 10, 11), datetime.date(1977, 8, 18),\n",
    "           datetime.date(2002, 10, 1), datetime.date(2013, 10, 12), datetime.date(1977, 8, 19)]\n",
    "date_parser = DateParser()\n",
    "for date, ans in zip(correct_dates, answers):\n",
    "    res = date_parser.parse_date(date)\n",
    "    assert res == ans"
   ]
  },
  {
   "cell_type": "code",
   "execution_count": 47,
   "id": "4b9aa9da-7e17-4f6b-8f50-d60c68f09411",
   "metadata": {},
   "outputs": [],
   "source": [
    "# Тесты некорректности\n",
    "incorrect_dates = [\"Wednesday, October 002, 2002\", \"Wednesday, October 2, 2001\", \"Friday, 11.14.13\", \"Friday, 11.10.12\",\n",
    "                   \"Thursday, 38 August 1977\", \"Thursday, 18 August 1976\"]\n",
    "exception_types = [InvalidDateException, IncorrectWeekdayException, InvalidDateException, IncorrectWeekdayException,\n",
    "                   InvalidDateException, IncorrectWeekdayException]\n",
    "for date, exc_type in zip(incorrect_dates, exception_types):\n",
    "    res = None\n",
    "    try:\n",
    "        res = date_parser.parse_date(date)\n",
    "    except InvalidDateException:\n",
    "        res = InvalidDateException\n",
    "    except IncorrectWeekdayException:\n",
    "        res = IncorrectWeekdayException\n",
    "    finally:\n",
    "        assert res == exc_type"
   ]
  },
  {
   "cell_type": "markdown",
   "id": "68bcfe87-103d-4738-97f6-d7fa399bf7b6",
   "metadata": {},
   "source": [
    "#### Главный цикл программы"
   ]
  },
  {
   "cell_type": "code",
   "execution_count": 49,
   "id": "648b8b1f-53f4-4724-97dd-35fbd394722d",
   "metadata": {},
   "outputs": [],
   "source": [
    "def read_input_impl(welcome_string):\n",
    "    result = input(f\"{welcome_string}:\\n\")\n",
    "    return result\n",
    "\n",
    "def read_input(date_parser):\n",
    "    command = read_input_impl(\"Введите дату\")\n",
    "    if command == \"q\":\n",
    "        return False\n",
    "    else:\n",
    "        try:\n",
    "            print(f\"Полученная дата: {date_parser.parse_date(command)}\")\n",
    "        except (InvalidDateException, IncorrectWeekdayException) as e:\n",
    "            print(e)\n",
    "        finally:\n",
    "            return True\n",
    "\n",
    "def input_loop():\n",
    "    date_parser = DateParser()\n",
    "    repeat = True\n",
    "    while repeat:\n",
    "        repeat = read_input(date_parser)\n",
    "        print(\"------------\")"
   ]
  },
  {
   "cell_type": "code",
   "execution_count": 50,
   "id": "1d871729-c35e-44b1-9edb-032a70371c16",
   "metadata": {},
   "outputs": [
    {
     "name": "stdin",
     "output_type": "stream",
     "text": [
      "Введите дату:\n",
      " q\n"
     ]
    },
    {
     "name": "stdout",
     "output_type": "stream",
     "text": [
      "------------\n"
     ]
    }
   ],
   "source": [
    "input_loop()"
   ]
  },
  {
   "cell_type": "code",
   "execution_count": 51,
   "id": "99baa09f-29a7-4b7e-99ff-61973def7906",
   "metadata": {},
   "outputs": [
    {
     "name": "stdin",
     "output_type": "stream",
     "text": [
      "Введите дату:\n",
      " Wednesday, October 2, 2002\n"
     ]
    },
    {
     "name": "stdout",
     "output_type": "stream",
     "text": [
      "Полученная дата: 2002-10-02\n",
      "------------\n"
     ]
    },
    {
     "name": "stdin",
     "output_type": "stream",
     "text": [
      "Введите дату:\n",
      " Friday, 11.10.13\n"
     ]
    },
    {
     "name": "stdout",
     "output_type": "stream",
     "text": [
      "Полученная дата: 2013-10-11\n",
      "------------\n"
     ]
    },
    {
     "name": "stdin",
     "output_type": "stream",
     "text": [
      "Введите дату:\n",
      " Thursday, 18 August 1977\n"
     ]
    },
    {
     "name": "stdout",
     "output_type": "stream",
     "text": [
      "Полученная дата: 1977-08-18\n",
      "------------\n"
     ]
    },
    {
     "name": "stdin",
     "output_type": "stream",
     "text": [
      "Введите дату:\n",
      " Tuesday, October 1, 2002\n"
     ]
    },
    {
     "name": "stdout",
     "output_type": "stream",
     "text": [
      "Полученная дата: 2002-10-01\n",
      "------------\n"
     ]
    },
    {
     "name": "stdin",
     "output_type": "stream",
     "text": [
      "Введите дату:\n",
      " Saturday, 12.10.13\n"
     ]
    },
    {
     "name": "stdout",
     "output_type": "stream",
     "text": [
      "Полученная дата: 2013-10-12\n",
      "------------\n"
     ]
    },
    {
     "name": "stdin",
     "output_type": "stream",
     "text": [
      "Введите дату:\n",
      " Friday, 19 August 1977\n"
     ]
    },
    {
     "name": "stdout",
     "output_type": "stream",
     "text": [
      "Полученная дата: 1977-08-19\n",
      "------------\n"
     ]
    },
    {
     "name": "stdin",
     "output_type": "stream",
     "text": [
      "Введите дату:\n",
      " Wednesday, October 002, 2002\n"
     ]
    },
    {
     "name": "stdout",
     "output_type": "stream",
     "text": [
      "Не удалось прочитать дату: Wednesday, October 002, 2002\n",
      "------------\n"
     ]
    },
    {
     "name": "stdin",
     "output_type": "stream",
     "text": [
      "Введите дату:\n",
      " Wednesday, October 2, 2001\n"
     ]
    },
    {
     "name": "stdout",
     "output_type": "stream",
     "text": [
      "День недели не соответствует дате. Дата: Wednesday, October 2, 2001, ожидаемый день недели: Tuesday\n",
      "------------\n"
     ]
    },
    {
     "name": "stdin",
     "output_type": "stream",
     "text": [
      "Введите дату:\n",
      " Friday, 11.14.13\n"
     ]
    },
    {
     "name": "stdout",
     "output_type": "stream",
     "text": [
      "Не удалось прочитать дату: Friday, 11.14.13\n",
      "------------\n"
     ]
    },
    {
     "name": "stdin",
     "output_type": "stream",
     "text": [
      "Введите дату:\n",
      " Friday, 11.10.12\n"
     ]
    },
    {
     "name": "stdout",
     "output_type": "stream",
     "text": [
      "День недели не соответствует дате. Дата: Friday, 11.10.12, ожидаемый день недели: Thursday\n",
      "------------\n"
     ]
    },
    {
     "name": "stdin",
     "output_type": "stream",
     "text": [
      "Введите дату:\n",
      " Thursday, 38 August 1977\n"
     ]
    },
    {
     "name": "stdout",
     "output_type": "stream",
     "text": [
      "Не удалось прочитать дату: Thursday, 38 August 1977\n",
      "------------\n"
     ]
    },
    {
     "name": "stdin",
     "output_type": "stream",
     "text": [
      "Введите дату:\n",
      " Thursday, 18 August 1976\n"
     ]
    },
    {
     "name": "stdout",
     "output_type": "stream",
     "text": [
      "День недели не соответствует дате. Дата: Thursday, 18 August 1976, ожидаемый день недели: Wednesday\n",
      "------------\n"
     ]
    },
    {
     "name": "stdin",
     "output_type": "stream",
     "text": [
      "Введите дату:\n",
      " q\n"
     ]
    },
    {
     "name": "stdout",
     "output_type": "stream",
     "text": [
      "------------\n"
     ]
    }
   ],
   "source": [
    "input_loop()"
   ]
  },
  {
   "cell_type": "code",
   "execution_count": null,
   "id": "a4394d47-c63a-47f7-96d6-af3e9faa6d72",
   "metadata": {},
   "outputs": [],
   "source": []
  }
 ],
 "metadata": {
  "kernelspec": {
   "display_name": "Python 3 (ipykernel)",
   "language": "python",
   "name": "python3"
  },
  "language_info": {
   "codemirror_mode": {
    "name": "ipython",
    "version": 3
   },
   "file_extension": ".py",
   "mimetype": "text/x-python",
   "name": "python",
   "nbconvert_exporter": "python",
   "pygments_lexer": "ipython3",
   "version": "3.12.7"
  }
 },
 "nbformat": 4,
 "nbformat_minor": 5
}
