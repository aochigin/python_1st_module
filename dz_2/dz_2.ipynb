{
 "cells": [
  {
   "cell_type": "markdown",
   "id": "47ebaad9-3411-4013-b6b6-52ddc97a65f1",
   "metadata": {},
   "source": [
    "### Задание 1"
   ]
  },
  {
   "cell_type": "code",
   "execution_count": 5,
   "id": "6841a96b-1b6c-49e4-9461-eb3c8b7f5c91",
   "metadata": {},
   "outputs": [],
   "source": [
    "def get_substring(string):\n",
    "    length = len(string)\n",
    "    if length == 0:\n",
    "        return \"\"\n",
    "    middle = length // 2;\n",
    "    if length % 2 == 0:\n",
    "        return string[middle - 1: middle + 1]\n",
    "    else:\n",
    "        return string[middle]"
   ]
  },
  {
   "cell_type": "code",
   "execution_count": 6,
   "id": "97ca6b86-b9d5-4454-b058-688ce684dc73",
   "metadata": {},
   "outputs": [
    {
     "name": "stdout",
     "output_type": "stream",
     "text": [
      "Исходная строка \"test\" - подстрока \"es\"\n",
      "Исходная строка \"testing\" - подстрока \"t\"\n"
     ]
    }
   ],
   "source": [
    "strings = [\"test\", \"testing\"]\n",
    "answers = [\"es\", \"t\"]\n",
    "\n",
    "for string, answer in zip(strings, answers):\n",
    "    substr = get_substring(string)\n",
    "    assert(substr == answer)\n",
    "    print(f\"Исходная строка \\\"{string}\\\" - подстрока \\\"{substr}\\\"\")    "
   ]
  },
  {
   "cell_type": "markdown",
   "id": "dc3d3218-c793-4f34-8e28-5bae1116fc7e",
   "metadata": {},
   "source": [
    "### Задание 2"
   ]
  },
  {
   "cell_type": "code",
   "execution_count": 6,
   "id": "50b7f193-1398-4377-b0b0-87c76d4f0553",
   "metadata": {},
   "outputs": [],
   "source": [
    "def get_perfect_match(boys, girls):\n",
    "    if len(boys) != len(girls):\n",
    "        return None\n",
    "    else:\n",
    "        return zip(sorted(boys), sorted(girls))"
   ]
  },
  {
   "cell_type": "code",
   "execution_count": 7,
   "id": "c143ccda-a4d0-462c-9db1-795742b0f503",
   "metadata": {},
   "outputs": [],
   "source": [
    "def pairs_pretty_print(pairs):\n",
    "    if pairs is None:\n",
    "        print(\"Внимание, кто-то может остаться без пары.\")\n",
    "        return\n",
    "    print(\"Идеальные пары:\")\n",
    "    for boy, girl in pairs:\n",
    "        print(f\"{boy} и {girl}\")"
   ]
  },
  {
   "cell_type": "markdown",
   "id": "f8da07fa-3419-4023-994b-9175e8fb760d",
   "metadata": {},
   "source": [
    "#### тест 1"
   ]
  },
  {
   "cell_type": "code",
   "execution_count": 8,
   "id": "b642ec0e-a811-4bcd-bbd3-259929a3a767",
   "metadata": {},
   "outputs": [
    {
     "name": "stdout",
     "output_type": "stream",
     "text": [
      "Идеальные пары:\n",
      "Alex и Emma\n",
      "Arthur и Kate\n",
      "John и Kira\n",
      "Peter и Liza\n",
      "Richard и Trisha\n"
     ]
    }
   ],
   "source": [
    "boys = [\"Peter\", \"Alex\", \"John\", \"Arthur\", \"Richard\"]\n",
    "girls = [\"Kate\", \"Liza\", \"Kira\", \"Emma\", \"Trisha\"]\n",
    "\n",
    "pairs = get_perfect_match(boys, girls)\n",
    "pairs_pretty_print(pairs)"
   ]
  },
  {
   "cell_type": "markdown",
   "id": "a6dc38f2-2362-4360-8fc2-bc47e70eb9a7",
   "metadata": {},
   "source": [
    "#### тест 2"
   ]
  },
  {
   "cell_type": "code",
   "execution_count": 10,
   "id": "193e89c7-1818-493a-8cbb-4fd235f56a4f",
   "metadata": {},
   "outputs": [
    {
     "name": "stdout",
     "output_type": "stream",
     "text": [
      "Внимание, кто-то может остаться без пары.\n"
     ]
    }
   ],
   "source": [
    "boys = [\"Peter\", \"Alex\", \"John\", \"Arthur\", \"Richard\", \"Michael\"]\n",
    "girls = [\"Kate\", \"Liza\", \"Kira\", \"Emma\", \"Trisha\"]\n",
    "\n",
    "pairs = get_perfect_match(boys, girls)\n",
    "pairs_pretty_print(pairs)"
   ]
  },
  {
   "cell_type": "code",
   "execution_count": null,
   "id": "e2dc28b1-a6fe-4372-8edb-8b2344d9f1aa",
   "metadata": {},
   "outputs": [],
   "source": []
  }
 ],
 "metadata": {
  "kernelspec": {
   "display_name": "Python 3 (ipykernel)",
   "language": "python",
   "name": "python3"
  },
  "language_info": {
   "codemirror_mode": {
    "name": "ipython",
    "version": 3
   },
   "file_extension": ".py",
   "mimetype": "text/x-python",
   "name": "python",
   "nbconvert_exporter": "python",
   "pygments_lexer": "ipython3",
   "version": "3.12.6"
  }
 },
 "nbformat": 4,
 "nbformat_minor": 5
}
