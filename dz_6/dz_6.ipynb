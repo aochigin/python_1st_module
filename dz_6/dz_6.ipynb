{
 "cells": [
  {
   "cell_type": "markdown",
   "id": "1e31a9cb-8926-479b-bed3-c7e1b39351ad",
   "metadata": {},
   "source": [
    "### Немного о задании....\n",
    "\n",
    "Я набрал файлов из файлов из лекций, надеюсь я сделал нужные файлы"
   ]
  },
  {
   "cell_type": "markdown",
   "id": "579cd714-4620-4e6d-9e76-663205349f89",
   "metadata": {},
   "source": [
    "#### Посмотрим на purchase_log.txt"
   ]
  },
  {
   "cell_type": "code",
   "execution_count": 1,
   "id": "47c4e185-b551-4b87-a7c2-5e7d45e3f486",
   "metadata": {},
   "outputs": [],
   "source": [
    "PURCHASE_FILE_NAME = \"purchase_log.txt\"\n",
    "def print_first_n_lines(file_name, n):\n",
    "    with open(file_name, \"r\") as r_file:\n",
    "        for _ in range(n):\n",
    "            print(next(r_file), end='')"
   ]
  },
  {
   "cell_type": "code",
   "execution_count": 3,
   "id": "bac51280-10e2-4f44-a974-90d2c5135dfe",
   "metadata": {},
   "outputs": [
    {
     "name": "stdout",
     "output_type": "stream",
     "text": [
      "{\"user_id\": \"user_id\", \"category\": \"category\"}\n",
      "{\"category\": \"Продукты\", \"user_id\": \"1840e0b9d4\"}\n",
      "{\"user_id\": \"4e4f90fcfb\", \"category\": \"Электроника\"}\n",
      "{\"user_id\": \"afea8d72fc\", \"category\": \"Электроника\"}\n",
      "{\"user_id\": \"373a6055fe\", \"category\": \"Бытовая техника\"}\n"
     ]
    }
   ],
   "source": [
    "print_first_n_lines(PURCHASE_FILE_NAME, 5)"
   ]
  },
  {
   "cell_type": "markdown",
   "id": "9fa8aac2-806f-42bb-8dfc-5ca7c243faed",
   "metadata": {},
   "source": [
    "#### Посмотрим на visit_log.csv"
   ]
  },
  {
   "cell_type": "code",
   "execution_count": 4,
   "id": "97134059-942e-438d-a3f5-dafd75451ef0",
   "metadata": {},
   "outputs": [
    {
     "name": "stdout",
     "output_type": "stream",
     "text": [
      "user_id,source\n",
      "6450655ae8,other\n",
      "b4ea53e670,other\n",
      "0,other\n",
      "96064ae9e0,other\n"
     ]
    }
   ],
   "source": [
    "VISIT_FILE_NAME = \"visit_log.csv\"\n",
    "print_first_n_lines(VISIT_FILE_NAME, 5)"
   ]
  },
  {
   "cell_type": "markdown",
   "id": "75903a26-9191-41a3-940f-da2995f2e642",
   "metadata": {},
   "source": [
    "#### Создадим словарь с покупками, в котором будем искать юзера из визита. Для этого нам понадобится json"
   ]
  },
  {
   "cell_type": "code",
   "execution_count": 7,
   "id": "8e61d5d7-0abf-4c6e-a606-4b76cf640be5",
   "metadata": {},
   "outputs": [],
   "source": [
    "import json\n",
    "def read_purchases(file_name):\n",
    "    result = {}\n",
    "    with open(file_name, \"r\") as r_file:\n",
    "        header = json.loads(next(r_file))\n",
    "        user_id_field = header[\"user_id\"]\n",
    "        category_field = header[\"category\"]\n",
    "        for line in r_file:\n",
    "            data = json.loads(line)\n",
    "            assert user_id_field in data and category_field in data\n",
    "            # I don't know if there are multiple purchases from the same user_id\n",
    "            # But according to task I guess no way to match visit with exact category in case multiple purchases\n",
    "            result[data[user_id_field]] = data[category_field]\n",
    "    return result\n",
    "purchases = read_purchases(PURCHASE_FILE_NAME)"
   ]
  },
  {
   "cell_type": "markdown",
   "id": "acd5fdf7-b9cf-4041-aa1b-4b951f8f7cfb",
   "metadata": {},
   "source": [
    "#### Пробегаемся по визитам и ищем тем что с известным нам байером, добавляем категорию и выводим"
   ]
  },
  {
   "cell_type": "code",
   "execution_count": 11,
   "id": "b4900365-0ddb-43e3-b4a1-85c827ac41f3",
   "metadata": {},
   "outputs": [],
   "source": [
    "OUTPUT_FILE_NAME = \"funnel.csv\"\n",
    "with open(VISIT_FILE_NAME, \"r\") as r_file, open(OUTPUT_FILE_NAME, \"w\") as w_file:\n",
    "    header_to_index = {}\n",
    "    header_line = next(r_file).rstrip('\\r\\n')\n",
    "    header_line += ',category\\n'\n",
    "    w_file.write(header_line)\n",
    "    for line in r_file:\n",
    "        # Let's assume user_id always first column, so we won't parse the whole line, just get substring\n",
    "        cur_user_id = line[:line.find(',')]\n",
    "        if cur_user_id in purchases:\n",
    "            w_file.write(line.rstrip('\\r\\n') + \",\" + purchases[cur_user_id] + \"\\n\")"
   ]
  },
  {
   "cell_type": "markdown",
   "id": "45f13880-dfb1-4de5-8a46-4fea28052937",
   "metadata": {},
   "source": [
    "#### Проверим что в файле в итоговом"
   ]
  },
  {
   "cell_type": "code",
   "execution_count": 12,
   "id": "9f623a42-ca97-40f6-b7e9-ac5e2f9f3acb",
   "metadata": {},
   "outputs": [
    {
     "name": "stdout",
     "output_type": "stream",
     "text": [
      "user_id,source,category\n",
      "1840e0b9d4,other,Продукты\n",
      "4e4f90fcfb,context,Электроника\n",
      "afea8d72fc,other,Электроника\n",
      "2824221f38,email,Продукты\n"
     ]
    }
   ],
   "source": [
    "print_first_n_lines(OUTPUT_FILE_NAME, 5)"
   ]
  }
 ],
 "metadata": {
  "kernelspec": {
   "display_name": "Python 3 (ipykernel)",
   "language": "python",
   "name": "python3"
  },
  "language_info": {
   "codemirror_mode": {
    "name": "ipython",
    "version": 3
   },
   "file_extension": ".py",
   "mimetype": "text/x-python",
   "name": "python",
   "nbconvert_exporter": "python",
   "pygments_lexer": "ipython3",
   "version": "3.12.7"
  }
 },
 "nbformat": 4,
 "nbformat_minor": 5
}
