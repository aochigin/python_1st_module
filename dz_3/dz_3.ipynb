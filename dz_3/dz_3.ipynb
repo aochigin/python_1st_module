{
 "cells": [
  {
   "cell_type": "markdown",
   "id": "47ebaad9-3411-4013-b6b6-52ddc97a65f1",
   "metadata": {},
   "source": [
    "### Задание 1"
   ]
  },
  {
   "cell_type": "markdown",
   "id": "da38f197-cd2e-4fb4-bd2d-fb1aec1a51ac",
   "metadata": {},
   "source": [
    "В задании указано, что условие количество < 20, при этом структура называется price... значит обработаем оба варианта\n",
    "В задании странные кавычки вокруг количества..., поэтому обработаем и строчку и инт"
   ]
  },
  {
   "cell_type": "markdown",
   "id": "96b508be-7f86-4673-9d83-aafcd2c6ce44",
   "metadata": {},
   "source": [
    "### Исходные данные"
   ]
  },
  {
   "cell_type": "code",
   "execution_count": 4,
   "id": "3b534e08-b864-4ba9-bb75-01f977d5411c",
   "metadata": {},
   "outputs": [],
   "source": [
    "items = {\n",
    "    'milk15': {\n",
    "        'name': 'молоко 1.5%',\n",
    "        'count': 34,\n",
    "        'price': 89.9\n",
    "    },\n",
    "    'cheese': {\n",
    "        'name': 'сыр молочный 1 кг.',\n",
    "        'count': 12,\n",
    "        'price': 990.9\n",
    "    },\n",
    "    'sausage': {\n",
    "        'name': 'колбаса 1 кг.',\n",
    "        'count': 122,\n",
    "        'price': 1990.9\n",
    "    }\n",
    "}\n",
    "\n",
    "items_text_count = {\n",
    "    'milk15': {\n",
    "        'name': 'молоко 1.5%',\n",
    "        'count': '34',\n",
    "        'price': 89.9\n",
    "    },\n",
    "    'cheese': {\n",
    "        'name': 'сыр молочный 1 кг.',\n",
    "        'count': '12',\n",
    "        'price': 990.9\n",
    "    },\n",
    "    'sausage': {\n",
    "        'name': 'колбаса 1 кг.',\n",
    "        'count': '122',\n",
    "        'price': 1990.9\n",
    "    }\n",
    "}"
   ]
  },
  {
   "cell_type": "markdown",
   "id": "b52c43bb-9174-4b5d-8e3b-70828bc1bda3",
   "metadata": {},
   "source": [
    "### Количество меньше 20"
   ]
  },
  {
   "cell_type": "code",
   "execution_count": 1,
   "id": "72023e7a-2098-497b-8dc0-d89f8c9cc169",
   "metadata": {},
   "outputs": [],
   "source": [
    "def build_count_less_N(input_items, N):\n",
    "    return {k : True if int(v[\"count\"]) < N else False for k, v in input_items.items()}"
   ]
  },
  {
   "cell_type": "code",
   "execution_count": 14,
   "id": "6023f1eb-bb75-44d4-ab80-e60994b62992",
   "metadata": {},
   "outputs": [],
   "source": [
    "def pretty_print_one_level_map(name, input_items):\n",
    "    print(f\"{name}:\")\n",
    "    for k, v in input_items.items():\n",
    "        print(f\"    {(k + \":\"): <10}{v}\")\n",
    "    print(\"--------\")"
   ]
  },
  {
   "cell_type": "code",
   "execution_count": 15,
   "id": "f45a6e26-b799-4f3d-a6f5-830e1473d53a",
   "metadata": {
    "scrolled": true
   },
   "outputs": [
    {
     "name": "stdout",
     "output_type": "stream",
     "text": [
      "count_less_20:\n",
      "    milk15:   False\n",
      "    cheese:   True\n",
      "    sausage:  False\n",
      "--------\n"
     ]
    }
   ],
   "source": [
    "count_less_20_1 = build_count_less_N(items, 20)\n",
    "pretty_print_one_level_map(\"count_less_20\", count_less_20_1)"
   ]
  },
  {
   "cell_type": "code",
   "execution_count": 16,
   "id": "199aa97e-f962-47db-bcfd-a8496d2b9cf1",
   "metadata": {},
   "outputs": [
    {
     "name": "stdout",
     "output_type": "stream",
     "text": [
      "count_less_20:\n",
      "    milk15:   False\n",
      "    cheese:   True\n",
      "    sausage:  False\n",
      "--------\n"
     ]
    }
   ],
   "source": [
    "count_less_20_2 = build_count_less_N(items_text_count, 20)\n",
    "pretty_print_one_level_map(\"count_less_20\", count_less_20_2)"
   ]
  },
  {
   "cell_type": "markdown",
   "id": "ad61bc55-2f8e-40d9-b095-43f9159f7425",
   "metadata": {},
   "source": [
    "### Цена меньше 20"
   ]
  },
  {
   "cell_type": "code",
   "execution_count": 17,
   "id": "29eb6a0a-51f2-4f40-b089-328b40c29dce",
   "metadata": {},
   "outputs": [],
   "source": [
    "def build_price_less_N(input_items, N):\n",
    "    return {k : True if float(v[\"price\"]) < N else False for k, v in input_items.items()}"
   ]
  },
  {
   "cell_type": "code",
   "execution_count": 18,
   "id": "d9ff4762-a689-422f-ad0d-f0e474c26355",
   "metadata": {},
   "outputs": [
    {
     "name": "stdout",
     "output_type": "stream",
     "text": [
      "price_less_20:\n",
      "    milk15:   False\n",
      "    cheese:   False\n",
      "    sausage:  False\n",
      "--------\n"
     ]
    }
   ],
   "source": [
    "price_less_20_1 = build_price_less_N(items, 20)\n",
    "pretty_print_one_level_map(\"price_less_20\", price_less_20_1)"
   ]
  },
  {
   "cell_type": "code",
   "execution_count": 20,
   "id": "ec7d64e3-9bc5-4ebe-8179-7716f196b79e",
   "metadata": {},
   "outputs": [
    {
     "name": "stdout",
     "output_type": "stream",
     "text": [
      "price_less_100:\n",
      "    milk15:   True\n",
      "    cheese:   False\n",
      "    sausage:  False\n",
      "--------\n"
     ]
    }
   ],
   "source": [
    "price_less_100 = build_price_less_N(items, 100)\n",
    "pretty_print_one_level_map(\"price_less_100\", price_less_100)"
   ]
  },
  {
   "cell_type": "code",
   "execution_count": null,
   "id": "d706b20b-d23e-4ed2-a3b0-7db9c0f0a132",
   "metadata": {},
   "outputs": [],
   "source": []
  }
 ],
 "metadata": {
  "kernelspec": {
   "display_name": "Python 3 (ipykernel)",
   "language": "python",
   "name": "python3"
  },
  "language_info": {
   "codemirror_mode": {
    "name": "ipython",
    "version": 3
   },
   "file_extension": ".py",
   "mimetype": "text/x-python",
   "name": "python",
   "nbconvert_exporter": "python",
   "pygments_lexer": "ipython3",
   "version": "3.12.6"
  }
 },
 "nbformat": 4,
 "nbformat_minor": 5
}
